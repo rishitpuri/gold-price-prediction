{
  "nbformat": 4,
  "nbformat_minor": 0,
  "metadata": {
    "colab": {
      "name": "Linear discriminant analysis using r.ipynb",
      "provenance": []
    },
    "kernelspec": {
      "name": "ir",
      "display_name": "R"
    },
    "language_info": {
      "name": "R"
    }
  },
  "cells": [
    {
      "cell_type": "markdown",
      "metadata": {
        "id": "NPexOZs60BcB"
      },
      "source": [
        "Linear discriminant analysis is a method you can use when you have a set of predictor variables and you’d like to classify a response variable into two or more classes."
      ]
    },
    {
      "cell_type": "code",
      "metadata": {
        "id": "2HTtOozFUlz6"
      },
      "source": [
        "library(MASS)\n",
        "library(ggplot2)"
      ],
      "execution_count": 1,
      "outputs": []
    },
    {
      "cell_type": "code",
      "metadata": {
        "colab": {
          "base_uri": "https://localhost:8080/"
        },
        "id": "24wQg9VgVWRY",
        "outputId": "9455aed4-2f2a-4a5e-fba3-fa2a4fd81608"
      },
      "source": [
        "#attach iris dataset to make it easy to work with\n",
        "attach(iris)\n",
        "\n",
        "#view structure of dataset\n",
        "str(iris)\n",
        "\n"
      ],
      "execution_count": 8,
      "outputs": [
        {
          "output_type": "stream",
          "text": [
            "'data.frame':\t150 obs. of  5 variables:\n",
            " $ Sepal.Length: num  5.1 4.9 4.7 4.6 5 5.4 4.6 5 4.4 4.9 ...\n",
            " $ Sepal.Width : num  3.5 3 3.2 3.1 3.6 3.9 3.4 3.4 2.9 3.1 ...\n",
            " $ Petal.Length: num  1.4 1.4 1.3 1.5 1.4 1.7 1.4 1.5 1.4 1.5 ...\n",
            " $ Petal.Width : num  0.2 0.2 0.2 0.2 0.2 0.4 0.3 0.2 0.2 0.1 ...\n",
            " $ Species     : Factor w/ 3 levels \"setosa\",\"versicolor\",..: 1 1 1 1 1 1 1 1 1 1 ...\n"
          ],
          "name": "stdout"
        }
      ]
    },
    {
      "cell_type": "markdown",
      "metadata": {
        "id": "qn9UclWQ0OHL"
      },
      "source": [
        "We can see that the dataset contains 5 variables and 150 total observations.\n",
        "For this example we’ll build a linear discriminant analysis model to classify which species a given flower belongs to.\n",
        "\n",
        "We’ll use the following predictor variables in the model:\n",
        "\n",
        "Sepal.length\n",
        "Sepal.Width\n",
        "Petal.Length\n",
        "Petal.Width\n",
        "And we’ll use them to predict the response variable Species, which takes on the following three potential classes:\n",
        "\n",
        "setosa\n",
        "versicolor\n",
        "virginica"
      ]
    },
    {
      "cell_type": "markdown",
      "metadata": {
        "id": "dSp6qa6S0f43"
      },
      "source": [
        "One of the key assumptions of linear discriminant analysis is that each of the predictor variables have the same variance. An easy way to assure that this assumption is met is to scale each variable such that it has a mean of 0 and a standard deviation of 1."
      ]
    },
    {
      "cell_type": "code",
      "metadata": {
        "id": "LvVHEai7Yy67"
      },
      "source": [
        "#scale each predictor variable (i.e. first 4 columns)\n",
        "iris[1:4] <- scale(iris[1:4])"
      ],
      "execution_count": 10,
      "outputs": []
    },
    {
      "cell_type": "markdown",
      "metadata": {
        "id": "nDyg3QuC0tfX"
      },
      "source": [
        "We can use the apply() function to verify that each predictor variable now has a mean of 0 and a standard deviation of 1:"
      ]
    },
    {
      "cell_type": "code",
      "metadata": {
        "colab": {
          "base_uri": "https://localhost:8080/",
          "height": 34
        },
        "id": "5pQsrW4DZDHM",
        "outputId": "eec75bb3-0872-40e5-edc2-36f84eb6b88f"
      },
      "source": [
        "#find mean of each predictor variable\n",
        "apply(iris[1:4], 2, mean)\n"
      ],
      "execution_count": 11,
      "outputs": [
        {
          "output_type": "display_data",
          "data": {
            "text/plain": [
              " Sepal.Length   Sepal.Width  Petal.Length   Petal.Width \n",
              "-3.807040e-18 -4.916405e-18 -1.610763e-17 -2.216218e-17 "
            ],
            "text/latex": "\\begin{description*}\n\\item[Sepal.Length] -3.80704040341129e-18\n\\item[Sepal.Width] -4.91640510131656e-18\n\\item[Petal.Length] -1.6107630275893e-17\n\\item[Petal.Width] -2.21621766077762e-17\n\\end{description*}\n",
            "text/markdown": "Sepal.Length\n:   -3.80704040341129e-18Sepal.Width\n:   -4.91640510131656e-18Petal.Length\n:   -1.6107630275893e-17Petal.Width\n:   -2.21621766077762e-17\n\n",
            "text/html": [
              "<style>\n",
              ".dl-inline {width: auto; margin:0; padding: 0}\n",
              ".dl-inline>dt, .dl-inline>dd {float: none; width: auto; display: inline-block}\n",
              ".dl-inline>dt::after {content: \":\\0020\"; padding-right: .5ex}\n",
              ".dl-inline>dt:not(:first-of-type) {padding-left: .5ex}\n",
              "</style><dl class=dl-inline><dt>Sepal.Length</dt><dd>-3.80704040341129e-18</dd><dt>Sepal.Width</dt><dd>-4.91640510131656e-18</dd><dt>Petal.Length</dt><dd>-1.6107630275893e-17</dd><dt>Petal.Width</dt><dd>-2.21621766077762e-17</dd></dl>\n"
            ]
          },
          "metadata": {
            "tags": []
          }
        }
      ]
    },
    {
      "cell_type": "code",
      "metadata": {
        "colab": {
          "base_uri": "https://localhost:8080/",
          "height": 34
        },
        "id": "twtrwJ-GZO1T",
        "outputId": "3b382936-c597-4713-fa1e-72a22a16a9f1"
      },
      "source": [
        "#find standard deviation of each predictor variable\n",
        "apply(iris[1:4], 2, sd) \n"
      ],
      "execution_count": 12,
      "outputs": [
        {
          "output_type": "display_data",
          "data": {
            "text/plain": [
              "Sepal.Length  Sepal.Width Petal.Length  Petal.Width \n",
              "           1            1            1            1 "
            ],
            "text/latex": "\\begin{description*}\n\\item[Sepal.Length] 1\n\\item[Sepal.Width] 1\n\\item[Petal.Length] 1\n\\item[Petal.Width] 1\n\\end{description*}\n",
            "text/markdown": "Sepal.Length\n:   1Sepal.Width\n:   1Petal.Length\n:   1Petal.Width\n:   1\n\n",
            "text/html": [
              "<style>\n",
              ".dl-inline {width: auto; margin:0; padding: 0}\n",
              ".dl-inline>dt, .dl-inline>dd {float: none; width: auto; display: inline-block}\n",
              ".dl-inline>dt::after {content: \":\\0020\"; padding-right: .5ex}\n",
              ".dl-inline>dt:not(:first-of-type) {padding-left: .5ex}\n",
              "</style><dl class=dl-inline><dt>Sepal.Length</dt><dd>1</dd><dt>Sepal.Width</dt><dd>1</dd><dt>Petal.Length</dt><dd>1</dd><dt>Petal.Width</dt><dd>1</dd></dl>\n"
            ]
          },
          "metadata": {
            "tags": []
          }
        }
      ]
    },
    {
      "cell_type": "markdown",
      "metadata": {
        "id": "MXJT3ckc033B"
      },
      "source": [
        "Next, we’ll split the dataset into a training set to train the model on and a testing set to test the model on"
      ]
    },
    {
      "cell_type": "code",
      "metadata": {
        "id": "fCj8Di1WZUlq"
      },
      "source": [
        "#make this example reproducible\n",
        "set.seed(1)\n",
        "\n",
        "#Use 70% of dataset as training set and remaining 30% as testing set\n",
        "sample <- sample(c(TRUE, FALSE), nrow(iris), replace=TRUE, prob=c(0.7,0.3))\n",
        "train <- iris[sample, ]\n",
        "test <- iris[!sample, ] "
      ],
      "execution_count": 13,
      "outputs": []
    },
    {
      "cell_type": "markdown",
      "metadata": {
        "id": "rQv86O380-cG"
      },
      "source": [
        "Next, we’ll use the lda() function from the MASS package to fit the LDA model to our data:"
      ]
    },
    {
      "cell_type": "code",
      "metadata": {
        "colab": {
          "base_uri": "https://localhost:8080/",
          "height": 408
        },
        "id": "5Ph3TabcasgN",
        "outputId": "d4d325c1-4b72-400f-8ba8-8563eb344c2b"
      },
      "source": [
        "#fit LDA model\n",
        "model <- lda(Species~., data=train)\n",
        "\n",
        "#view model output\n",
        "model"
      ],
      "execution_count": 14,
      "outputs": [
        {
          "output_type": "display_data",
          "data": {
            "text/plain": [
              "Call:\n",
              "lda(Species ~ ., data = train)\n",
              "\n",
              "Prior probabilities of groups:\n",
              "    setosa versicolor  virginica \n",
              " 0.3207547  0.3207547  0.3584906 \n",
              "\n",
              "Group means:\n",
              "           Sepal.Length Sepal.Width Petal.Length Petal.Width\n",
              "setosa       -1.0397484   0.8131654   -1.2891006  -1.2570316\n",
              "versicolor    0.1820921  -0.6038909    0.3403524   0.2208153\n",
              "virginica     0.9582674  -0.1919146    1.0389776   1.1229172\n",
              "\n",
              "Coefficients of linear discriminants:\n",
              "                    LD1        LD2\n",
              "Sepal.Length  0.7922820  0.5294210\n",
              "Sepal.Width   0.5710586  0.7130743\n",
              "Petal.Length -4.0762061 -2.7305131\n",
              "Petal.Width  -2.0602181  2.6326229\n",
              "\n",
              "Proportion of trace:\n",
              "   LD1    LD2 \n",
              "0.9921 0.0079 "
            ]
          },
          "metadata": {
            "tags": []
          }
        }
      ]
    },
    {
      "cell_type": "markdown",
      "metadata": {
        "id": "WKPTvTZq1Py5"
      },
      "source": [
        "Here is how to interpret the output of the model:\n",
        "\n",
        "Prior probabilities of group: These represent the proportions of each Species in the training set. For example, 35.8% of all observations in the training set were of species virginica.\n",
        "\n",
        "Group means: These display the mean values for each predictor variable for each species.\n",
        "\n",
        "Coefficients of linear discriminants: These display the linear combination of predictor variables that are used to form the decision rule of the LDA model. For example:\n",
        "\n",
        "LD1: .792*Sepal.Length + .571*Sepal.Width – 4.076*Petal.Length – 2.06*Petal.Width\n",
        "LD2: .529*Sepal.Length + .713*Sepal.Width – 2.731*Petal.Length + 2.63*Petal.Width\n",
        "Proportion of trace: These display the percentage separation achieved by each linear discriminant function."
      ]
    },
    {
      "cell_type": "markdown",
      "metadata": {
        "id": "htn_QpZ91aaO"
      },
      "source": [
        "Once we’ve fit the model using our training data, we can use it to make predictions on our test data:"
      ]
    },
    {
      "cell_type": "code",
      "metadata": {
        "colab": {
          "base_uri": "https://localhost:8080/",
          "height": 34
        },
        "id": "KgKchqrua3nM",
        "outputId": "4cc4f21c-d99e-4a1e-f690-1a29b090b8cf"
      },
      "source": [
        "#use LDA model to make predictions on test data\n",
        "predicted <- predict(model, test)\n",
        "\n",
        "names(predicted)"
      ],
      "execution_count": 15,
      "outputs": [
        {
          "output_type": "display_data",
          "data": {
            "text/plain": [
              "[1] \"class\"     \"posterior\" \"x\"        "
            ],
            "text/latex": "\\begin{enumerate*}\n\\item 'class'\n\\item 'posterior'\n\\item 'x'\n\\end{enumerate*}\n",
            "text/markdown": "1. 'class'\n2. 'posterior'\n3. 'x'\n\n\n",
            "text/html": [
              "<style>\n",
              ".list-inline {list-style: none; margin:0; padding: 0}\n",
              ".list-inline>li {display: inline-block}\n",
              ".list-inline>li:not(:last-child)::after {content: \"\\00b7\"; padding: 0 .5ex}\n",
              "</style>\n",
              "<ol class=list-inline><li>'class'</li><li>'posterior'</li><li>'x'</li></ol>\n"
            ]
          },
          "metadata": {
            "tags": []
          }
        }
      ]
    },
    {
      "cell_type": "markdown",
      "metadata": {
        "id": "HTXZLbko1t9C"
      },
      "source": [
        "This returns a list with three variables:\n",
        "\n",
        "class: The predicted class\n",
        "posterior: The posterior probability that an observation belongs to each class\n",
        "x: The linear discriminants"
      ]
    },
    {
      "cell_type": "markdown",
      "metadata": {
        "id": "JxoamAHH1wRQ"
      },
      "source": [
        "We can quickly view each of these results for the first six observations in our test dataset:"
      ]
    },
    {
      "cell_type": "code",
      "metadata": {
        "colab": {
          "base_uri": "https://localhost:8080/",
          "height": 51
        },
        "id": "GIdc63jabGH9",
        "outputId": "47b2be07-ea17-425c-bd63-f13035840ec9"
      },
      "source": [
        "#view predicted class for first six observations in test set\n",
        "head(predicted$class)"
      ],
      "execution_count": 16,
      "outputs": [
        {
          "output_type": "display_data",
          "data": {
            "text/plain": [
              "[1] setosa setosa setosa setosa setosa setosa\n",
              "Levels: setosa versicolor virginica"
            ],
            "text/latex": "\\begin{enumerate*}\n\\item setosa\n\\item setosa\n\\item setosa\n\\item setosa\n\\item setosa\n\\item setosa\n\\end{enumerate*}\n\n\\emph{Levels}: \\begin{enumerate*}\n\\item 'setosa'\n\\item 'versicolor'\n\\item 'virginica'\n\\end{enumerate*}\n",
            "text/markdown": "1. setosa\n2. setosa\n3. setosa\n4. setosa\n5. setosa\n6. setosa\n\n\n\n**Levels**: 1. 'setosa'\n2. 'versicolor'\n3. 'virginica'\n\n\n",
            "text/html": [
              "<style>\n",
              ".list-inline {list-style: none; margin:0; padding: 0}\n",
              ".list-inline>li {display: inline-block}\n",
              ".list-inline>li:not(:last-child)::after {content: \"\\00b7\"; padding: 0 .5ex}\n",
              "</style>\n",
              "<ol class=list-inline><li>setosa</li><li>setosa</li><li>setosa</li><li>setosa</li><li>setosa</li><li>setosa</li></ol>\n",
              "\n",
              "<details>\n",
              "\t<summary style=display:list-item;cursor:pointer>\n",
              "\t\t<strong>Levels</strong>:\n",
              "\t</summary>\n",
              "\t<style>\n",
              "\t.list-inline {list-style: none; margin:0; padding: 0}\n",
              "\t.list-inline>li {display: inline-block}\n",
              "\t.list-inline>li:not(:last-child)::after {content: \"\\00b7\"; padding: 0 .5ex}\n",
              "\t</style>\n",
              "\t<ol class=list-inline><li>'setosa'</li><li>'versicolor'</li><li>'virginica'</li></ol>\n",
              "</details>"
            ]
          },
          "metadata": {
            "tags": []
          }
        }
      ]
    },
    {
      "cell_type": "code",
      "metadata": {
        "colab": {
          "base_uri": "https://localhost:8080/",
          "height": 252
        },
        "id": "u8K09UEIbMEC",
        "outputId": "c8198b99-0595-4577-cdbe-6bbddf5c896f"
      },
      "source": [
        "#view posterior probabilities for first six observations in test set\n",
        "head(predicted$posterior)\n"
      ],
      "execution_count": 17,
      "outputs": [
        {
          "output_type": "display_data",
          "data": {
            "text/plain": [
              "   setosa versicolor   virginica   \n",
              "4  1      2.425563e-17 1.341984e-35\n",
              "6  1      1.400976e-21 4.482684e-40\n",
              "7  1      3.345770e-19 1.511748e-37\n",
              "15 1      6.389105e-31 7.361660e-53\n",
              "17 1      1.193282e-25 2.238696e-45\n",
              "18 1      6.445594e-22 4.894053e-41"
            ],
            "text/latex": "A matrix: 6 × 3 of type dbl\n\\begin{tabular}{r|lll}\n  & setosa & versicolor & virginica\\\\\n\\hline\n\t4 & 1 & 2.425563e-17 & 1.341984e-35\\\\\n\t6 & 1 & 1.400976e-21 & 4.482684e-40\\\\\n\t7 & 1 & 3.345770e-19 & 1.511748e-37\\\\\n\t15 & 1 & 6.389105e-31 & 7.361660e-53\\\\\n\t17 & 1 & 1.193282e-25 & 2.238696e-45\\\\\n\t18 & 1 & 6.445594e-22 & 4.894053e-41\\\\\n\\end{tabular}\n",
            "text/markdown": "\nA matrix: 6 × 3 of type dbl\n\n| <!--/--> | setosa | versicolor | virginica |\n|---|---|---|---|\n| 4 | 1 | 2.425563e-17 | 1.341984e-35 |\n| 6 | 1 | 1.400976e-21 | 4.482684e-40 |\n| 7 | 1 | 3.345770e-19 | 1.511748e-37 |\n| 15 | 1 | 6.389105e-31 | 7.361660e-53 |\n| 17 | 1 | 1.193282e-25 | 2.238696e-45 |\n| 18 | 1 | 6.445594e-22 | 4.894053e-41 |\n\n",
            "text/html": [
              "<table class=\"dataframe\">\n",
              "<caption>A matrix: 6 × 3 of type dbl</caption>\n",
              "<thead>\n",
              "\t<tr><th></th><th scope=col>setosa</th><th scope=col>versicolor</th><th scope=col>virginica</th></tr>\n",
              "</thead>\n",
              "<tbody>\n",
              "\t<tr><th scope=row>4</th><td>1</td><td>2.425563e-17</td><td>1.341984e-35</td></tr>\n",
              "\t<tr><th scope=row>6</th><td>1</td><td>1.400976e-21</td><td>4.482684e-40</td></tr>\n",
              "\t<tr><th scope=row>7</th><td>1</td><td>3.345770e-19</td><td>1.511748e-37</td></tr>\n",
              "\t<tr><th scope=row>15</th><td>1</td><td>6.389105e-31</td><td>7.361660e-53</td></tr>\n",
              "\t<tr><th scope=row>17</th><td>1</td><td>1.193282e-25</td><td>2.238696e-45</td></tr>\n",
              "\t<tr><th scope=row>18</th><td>1</td><td>6.445594e-22</td><td>4.894053e-41</td></tr>\n",
              "</tbody>\n",
              "</table>\n"
            ]
          },
          "metadata": {
            "tags": []
          }
        }
      ]
    },
    {
      "cell_type": "code",
      "metadata": {
        "colab": {
          "base_uri": "https://localhost:8080/",
          "height": 252
        },
        "id": "1mlMquUVbREM",
        "outputId": "6562f0e7-441c-4bee-b0cd-6cb605ed0710"
      },
      "source": [
        "#view linear discriminants for first six observations in test set\n",
        "head(predicted$x)\n"
      ],
      "execution_count": 18,
      "outputs": [
        {
          "output_type": "display_data",
          "data": {
            "text/plain": [
              "   LD1       LD2       \n",
              "4   7.150360 -0.7177382\n",
              "6   7.961538  1.4839408\n",
              "7   7.504033  0.2731178\n",
              "15 10.170378  1.9859027\n",
              "17  8.885168  2.1026494\n",
              "18  8.113443  0.7563902"
            ],
            "text/latex": "A matrix: 6 × 2 of type dbl\n\\begin{tabular}{r|ll}\n  & LD1 & LD2\\\\\n\\hline\n\t4 &  7.150360 & -0.7177382\\\\\n\t6 &  7.961538 &  1.4839408\\\\\n\t7 &  7.504033 &  0.2731178\\\\\n\t15 & 10.170378 &  1.9859027\\\\\n\t17 &  8.885168 &  2.1026494\\\\\n\t18 &  8.113443 &  0.7563902\\\\\n\\end{tabular}\n",
            "text/markdown": "\nA matrix: 6 × 2 of type dbl\n\n| <!--/--> | LD1 | LD2 |\n|---|---|---|\n| 4 |  7.150360 | -0.7177382 |\n| 6 |  7.961538 |  1.4839408 |\n| 7 |  7.504033 |  0.2731178 |\n| 15 | 10.170378 |  1.9859027 |\n| 17 |  8.885168 |  2.1026494 |\n| 18 |  8.113443 |  0.7563902 |\n\n",
            "text/html": [
              "<table class=\"dataframe\">\n",
              "<caption>A matrix: 6 × 2 of type dbl</caption>\n",
              "<thead>\n",
              "\t<tr><th></th><th scope=col>LD1</th><th scope=col>LD2</th></tr>\n",
              "</thead>\n",
              "<tbody>\n",
              "\t<tr><th scope=row>4</th><td> 7.150360</td><td>-0.7177382</td></tr>\n",
              "\t<tr><th scope=row>6</th><td> 7.961538</td><td> 1.4839408</td></tr>\n",
              "\t<tr><th scope=row>7</th><td> 7.504033</td><td> 0.2731178</td></tr>\n",
              "\t<tr><th scope=row>15</th><td>10.170378</td><td> 1.9859027</td></tr>\n",
              "\t<tr><th scope=row>17</th><td> 8.885168</td><td> 2.1026494</td></tr>\n",
              "\t<tr><th scope=row>18</th><td> 8.113443</td><td> 0.7563902</td></tr>\n",
              "</tbody>\n",
              "</table>\n"
            ]
          },
          "metadata": {
            "tags": []
          }
        }
      ]
    },
    {
      "cell_type": "markdown",
      "metadata": {
        "id": "Ew3eJzHb2Bt8"
      },
      "source": [
        "We can use the following code to see what percentage of observations the LDA model correctly predicted the Species for:"
      ]
    },
    {
      "cell_type": "code",
      "metadata": {
        "colab": {
          "base_uri": "https://localhost:8080/",
          "height": 34
        },
        "id": "X0hovoIObbMU",
        "outputId": "4c629f05-c258-462c-b3dc-a1a8fdbd2ec2"
      },
      "source": [
        "#find accuracy of model\n",
        "mean(predicted$class==test$Species)\n"
      ],
      "execution_count": 19,
      "outputs": [
        {
          "output_type": "display_data",
          "data": {
            "text/plain": [
              "[1] 1"
            ],
            "text/latex": "1",
            "text/markdown": "1",
            "text/html": [
              "1"
            ]
          },
          "metadata": {
            "tags": []
          }
        }
      ]
    },
    {
      "cell_type": "markdown",
      "metadata": {
        "id": "YcEa5jUV2OKJ"
      },
      "source": [
        "It turns out that the model correctly predicted the Species for 100% of the observations in our test dataset.\n",
        "\n",
        "In the real-world an LDA model will rarely predict every class outcome correctly, but this iris dataset is simply built in a way that machine learning algorithms tend to perform very well on it.\n",
        "\n"
      ]
    },
    {
      "cell_type": "markdown",
      "metadata": {
        "id": "9pI-ELX_2ix_"
      },
      "source": [
        "Lastly, we can create an LDA plot to view the linear discriminants of the model and visualize how well it separated the three different species in our dataset:"
      ]
    },
    {
      "cell_type": "code",
      "metadata": {
        "colab": {
          "base_uri": "https://localhost:8080/",
          "height": 437
        },
        "id": "ICcIwuS4bd5W",
        "outputId": "0383c75d-1efb-4e41-9e94-496bf997581c"
      },
      "source": [
        "#define data to plot\n",
        "lda_plot <- cbind(train, predict(model)$x)\n",
        "\n",
        "#create plot\n",
        "ggplot(lda_plot, aes(LD1, LD2)) +\n",
        "  geom_point(aes(color = Species))"
      ],
      "execution_count": 20,
      "outputs": [
        {
          "output_type": "display_data",
          "data": {
            "image/png": "[encoded data removed]",
            "text/plain": [
              "plot without title"
            ]
          },
          "metadata": {
            "tags": [],
            "image/png": {
              "width": 420,
              "height": 420
            }
          }
        }
      ]
    }
  ]
}